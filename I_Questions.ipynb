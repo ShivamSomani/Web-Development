{
 "cells": [
  {
   "cell_type": "code",
   "execution_count": 1,
   "metadata": {},
   "outputs": [
    {
     "name": "stdout",
     "output_type": "stream",
     "text": [
      "7654\n",
      "6543\n",
      "7654\n"
     ]
    }
   ],
   "source": [
    "#Reverse a NUMBER 3 methods\n",
    "\n",
    "#1- Easiest method to reverse\n",
    "a= 4567\n",
    "s=0\n",
    "while a:\n",
    "  b= a%10\n",
    "  s=(s*10)+b\n",
    "  a=a//10\n",
    "print(s)\n",
    "\n",
    "#2- Using For Loop by converting the num into Str\n",
    "\n",
    "reverse = ''\n",
    "num1 = 3456\n",
    "num=str(num1)\n",
    "for i in range(len(num), 0, -1):\n",
    "    reverse += num[i-1]\n",
    "print(int(reverse))\n",
    "\n",
    "# a = 4567\n",
    "# b = str(a)\n",
    "# s= \"\"\n",
    "# for i in b:\n",
    "#     s = str(i) +s \n",
    "# print (s)\n",
    "\n",
    "#3- Using Math Pow function\n",
    "import math\n",
    "\n",
    "a= 4567\n",
    "s=0\n",
    "l=len(str(a))-1\n",
    "while a:\n",
    "  b= a%10\n",
    "  s+= b*math.pow(10,l) #7*10^3=7000\n",
    "  a=a//10\n",
    "  l=l-1 \n",
    "print(int(s))  #so that answer does not come in decimal"
   ]
  },
  {
   "cell_type": "code",
   "execution_count": 5,
   "metadata": {},
   "outputs": [],
   "source": [
    "# SUM OF DIGITS #EASY\n",
    "\n",
    "def sum_digit():\n",
    "    s = 0\n",
    "    while n > 0:\n",
    "        s += n % 10\n",
    "        n //= 10\n",
    "    return s\n",
    "\n",
    "# USING RECURSION\n",
    "def sumdigits(number):\n",
    "  if number == 0:  # base case\n",
    "    return 0\n",
    "  else:                       #recursive case\n",
    "    return (number%10) + sumdigits(number//10)"
   ]
  },
  {
   "cell_type": "code",
   "execution_count": 6,
   "metadata": {},
   "outputs": [
    {
     "name": "stdout",
     "output_type": "stream",
     "text": [
      "[1, 2, 4, 5, 6]\n"
     ]
    }
   ],
   "source": [
    "# Remove duplicate values from the List #without using set\n",
    "a=[1,2,2,4,5,6,6]\n",
    "\n",
    "seen=[]\n",
    "for element in a:\n",
    "    if element not in seen:\n",
    "        seen.append(element)\n",
    "print(seen)  #[1,2,4,5,6]"
   ]
  },
  {
   "cell_type": "code",
   "execution_count": 7,
   "metadata": {},
   "outputs": [
    {
     "name": "stdout",
     "output_type": "stream",
     "text": [
      "{2, 6}\n",
      "{1, 2, 5}\n"
     ]
    }
   ],
   "source": [
    "# Print the DUPLICATES IN AN ARRAY\n",
    "#1) Remove duplicate values from the List using COUNT\n",
    "a=[1,2,2,4,5,6,6]\n",
    "seen=set()\n",
    "for element in a:\n",
    "    if a.count(element)>1:\n",
    "        seen.add(element)\n",
    "print(seen) # 2,6\n",
    "\n",
    "\n",
    "#2) Using two sets method\n",
    "seq = [1,2,3,2,1,5,6,5,5,5]\n",
    "seen = set()\n",
    "seen_twice= set()\n",
    "\n",
    "for x in seq:\n",
    "    if x not in seen:#or seen_add(x):\n",
    "        seen.add(x)\n",
    "    else:    \n",
    "        seen_twice.add(x)\n",
    "print ( seen_twice ) #[1, 2, 5]"
   ]
  },
  {
   "cell_type": "code",
   "execution_count": 26,
   "metadata": {},
   "outputs": [],
   "source": [
    "#### DIFFICULT"
   ]
  },
  {
   "cell_type": "code",
   "execution_count": 1,
   "metadata": {},
   "outputs": [
    {
     "name": "stdout",
     "output_type": "stream",
     "text": [
      "A4B4C4a2b2\n"
     ]
    }
   ],
   "source": [
    "#String Comprehension\n",
    "\n",
    "s= \"AAAABBBBCCCCaabb\"\n",
    "i=1\n",
    "l=len(s)\n",
    "r=''\n",
    "count=1\n",
    "\n",
    "while i<l:\n",
    "    if s[i]==s[i-1]:\n",
    "        count+=1\n",
    "    else:\n",
    "        r=r+s[i-1]+ str(count)\n",
    "        count=1\n",
    "    i+=1\n",
    "    \n",
    "r=r+s[i-1]+ str(count) # This is done for calculating count of last word ie b here\n",
    "print(r)  #A4B4C4a2b2\n"
   ]
  },
  {
   "cell_type": "code",
   "execution_count": 8,
   "metadata": {},
   "outputs": [
    {
     "name": "stdout",
     "output_type": "stream",
     "text": [
      "22\n"
     ]
    }
   ],
   "source": [
    "#SUM OF DIGIT (removed from method as shown above)\n",
    "\n",
    "n=4567\n",
    "s = 0\n",
    "while n > 0:\n",
    "    s += n % 10\n",
    "    n //= 10\n",
    "print (s)"
   ]
  },
  {
   "cell_type": "code",
   "execution_count": 10,
   "metadata": {},
   "outputs": [
    {
     "name": "stdout",
     "output_type": "stream",
     "text": [
      "True\n"
     ]
    }
   ],
   "source": [
    "#UNique characters in a string\n",
    "\n",
    "s= \"abcdea\"\n",
    "\n",
    "char= set()\n",
    "\n",
    "for i in s:\n",
    "    if i in char:\n",
    "        print (\"False\")\n",
    "else:\n",
    "    char.add(s)\n",
    "    \n",
    "print (\"True\") # Will return true since s has 2a in it"
   ]
  },
  {
   "cell_type": "code",
   "execution_count": 11,
   "metadata": {},
   "outputs": [
    {
     "name": "stdout",
     "output_type": "stream",
     "text": [
      "{'a': 4, 's': 3, 'l': 4, 'd': 3, 'k': 3}\n"
     ]
    }
   ],
   "source": [
    "#Counting repeated characters in a string\n",
    "s = \"asldaksldkalskdla\"\n",
    "dict = {}\n",
    "for letter in s:\n",
    " if letter not in dict.keys():\n",
    "  dict[letter] = 1\n",
    " else:\n",
    "  dict[letter] += 1\n",
    "\n",
    "print (dict) # {'a': 4, 's': 3, 'l': 4, 'd': 3, 'k': 3}"
   ]
  },
  {
   "cell_type": "code",
   "execution_count": 12,
   "metadata": {},
   "outputs": [
    {
     "name": "stdout",
     "output_type": "stream",
     "text": [
      "Counter({'g': 2, 'o': 2, ' ': 2, 'l': 1, 'e': 1, 't': 1, 'h': 1, 'i': 1, 's': 1})\n"
     ]
    }
   ],
   "source": [
    "#Counting repeated characters in a string (2nd way)\n",
    "\n",
    "import collections\n",
    "letters = collections.Counter('google this ')\n",
    "print(letters) #Counter({'g': 2, 'o': 2, ' ': 2, 'l': 1, 'e': 1, 't': 1, 'h': 1, 'i': 1, 's': 1})"
   ]
  },
  {
   "cell_type": "code",
   "execution_count": 17,
   "metadata": {},
   "outputs": [
    {
     "ename": "SyntaxError",
     "evalue": "invalid syntax (<ipython-input-17-2d60e9e37833>, line 18)",
     "output_type": "error",
     "traceback": [
      "\u001b[0;36m  File \u001b[0;32m\"<ipython-input-17-2d60e9e37833>\"\u001b[0;36m, line \u001b[0;32m18\u001b[0m\n\u001b[0;31m    words.append(''.join(word. ))\u001b[0m\n\u001b[0m                               ^\u001b[0m\n\u001b[0;31mSyntaxError\u001b[0m\u001b[0;31m:\u001b[0m invalid syntax\n"
     ]
    }
   ],
   "source": [
    "# # REVERSE SENTENCE WORD BYB WORD 2nd method\n",
    "\n",
    "s='The dog ran'\n",
    "s.split()\n",
    "print(' '.join(w[::-1] for w in s.split())) #ehT god nar\n",
    "\n",
    "# # REVERSE SENTENCE WORD BYB WORD 3rd method\n",
    "txt= \"a is this\"\n",
    "words = []\n",
    "word = []\n",
    "\n",
    "for char in txt:\n",
    "    if char == ' ':\n",
    "        words.append(''.join(word))\n",
    "        word = []\n",
    "    else:\n",
    "        word.append(char)\n",
    "words.append(''.join(word. ))\n",
    "\n",
    "print( ' '.join(reversed(words))) # this is a\n",
    "\n",
    "\n",
    "# REVERSE SENTENCE WORD BY WORD 4th method\n",
    "\n",
    "sentence = 'This is a string to try'\n",
    "answer = ''\n",
    "temp = ''\n",
    "for char in sentence:\n",
    "    if char != ' ':\n",
    "        temp += char\n",
    "    else:\n",
    "        answer = temp + ' ' + answer\n",
    "        temp = ''\n",
    "answer = temp + ' ' + answer\n",
    "print (answer)"
   ]
  },
  {
   "cell_type": "code",
   "execution_count": 18,
   "metadata": {},
   "outputs": [
    {
     "name": "stdout",
     "output_type": "stream",
     "text": [
      "[0, 0, 0, 0, 0, 1, 1, 1, 1, 1, 2, 2]\n"
     ]
    }
   ],
   "source": [
    "#SORT array 0, 1, 2\n",
    "a = [0, 1, 1, 0, 1, 2, 1, 2, 0, 0, 0, 1]\n",
    "arr_size = len(a)\n",
    "\n",
    "lo = 0\n",
    "hi = arr_size - 1\n",
    "mid = 0\n",
    "while mid <= hi:\n",
    "        if a[mid] == 0:\n",
    "            a[lo],a[mid] = a[mid],a[lo]\n",
    "            lo = lo + 1\n",
    "            mid = mid + 1\n",
    "        elif a[mid] == 1:\n",
    "            mid = mid + 1\n",
    "        else:\n",
    "            a[mid],a[hi] = a[hi],a[mid] \n",
    "            hi = hi - 1\n",
    "print(a)"
   ]
  },
  {
   "cell_type": "code",
   "execution_count": 20,
   "metadata": {},
   "outputs": [
    {
     "name": "stdout",
     "output_type": "stream",
     "text": [
      "4\n"
     ]
    }
   ],
   "source": [
    "#Find the first non-repeated character in a LIST\n",
    "word= [1,2,3,4,3,2,1,0]\n",
    "count = {}\n",
    "for c in word:\n",
    "    if c not in count:\n",
    "        count[c] = 0\n",
    "    count[c] += 1\n",
    "for c in word:\n",
    "    if count[c] == 1:\n",
    "        print (c)\n",
    "        break"
   ]
  },
  {
   "cell_type": "code",
   "execution_count": 22,
   "metadata": {},
   "outputs": [
    {
     "name": "stdout",
     "output_type": "stream",
     "text": [
      "5\n"
     ]
    }
   ],
   "source": [
    "#FInd MISSING NUMBER from a array which is not there in other array\n",
    "import collections\n",
    "def finder1(arr1,arr2):\n",
    "    d= collections.defaultdict(int) \n",
    "    # Default dictinoary that takes integers\n",
    "    # It does not throw key error, if key isn't in dict instead of \n",
    "    # throwing errors it adds the key\n",
    "    \n",
    "    for num in arr2:\n",
    "        d[num]+=1\n",
    "        \n",
    "    for num in arr1:\n",
    "        if d[num]==0:\n",
    "            print (num)\n",
    "            break\n",
    "            \n",
    "        else:\n",
    "            d[num]-=1\n",
    "            \n",
    "            \n",
    "arr1=[5,5,7,7]\n",
    "arr2= [5,7,7]\n",
    "finder1(arr1,arr2)\n",
    "\n"
   ]
  },
  {
   "cell_type": "code",
   "execution_count": 23,
   "metadata": {},
   "outputs": [
    {
     "name": "stdout",
     "output_type": "stream",
     "text": [
      "(3, 1)\n",
      "(2, 2)\n",
      "2\n"
     ]
    }
   ],
   "source": [
    "#ARRAY PAIR SUM \n",
    "arr=[1,3,2,2]\n",
    "k=4\n",
    "\n",
    "seen= set()\n",
    "output= set()\n",
    "\n",
    "for num in arr:\n",
    "    target= k - num\n",
    "    \n",
    "    if target not in seen:\n",
    "        seen.add(num)\n",
    "        \n",
    "    else:\n",
    "        #output.add((min(num, target), max (num, target)))\n",
    "        output.add((num, target))\n",
    "        \n",
    "print ('\\n'.join(map(str, list(output)))) # (3,1) (2,2)  \n",
    "print(len(output))  #=2\n"
   ]
  },
  {
   "cell_type": "code",
   "execution_count": 24,
   "metadata": {},
   "outputs": [
    {
     "name": "stdout",
     "output_type": "stream",
     "text": [
      "string a is This\n"
     ]
    }
   ],
   "source": [
    "# Sentence Reversal word by word\n",
    "s= \"This is a string\"\n",
    "spaces= [\" \"]\n",
    "listt=[]\n",
    "l=len(s)\n",
    "i=0\n",
    "\n",
    "while i<l:\n",
    "    #if s[i] not in spaces:\n",
    "        word_start=i\n",
    "    \n",
    "        while i< l and s[i] not in spaces:\n",
    "            i+=1\n",
    "        listt.append(s[word_start : i])\n",
    "        i+=1\n",
    "\n",
    "print(\" \".join(reversed(listt))) #string a is This\n"
   ]
  },
  {
   "cell_type": "code",
   "execution_count": 25,
   "metadata": {},
   "outputs": [
    {
     "name": "stdout",
     "output_type": "stream",
     "text": [
      "skeegrofskeeG\n"
     ]
    }
   ],
   "source": [
    "#Reverse a string in PYthon without using reversed\n",
    "s = \"Geeksforgeeks\"\n",
    "\n",
    "str = \"\"\n",
    "for i in s:\n",
    "    str = i + str\n",
    "print (str)"
   ]
  },
  {
   "cell_type": "code",
   "execution_count": 2,
   "metadata": {},
   "outputs": [
    {
     "name": "stdout",
     "output_type": "stream",
     "text": [
      "233\n"
     ]
    }
   ],
   "source": [
    "#  SLACK-QUESTIONS\n",
    "#EX: Input \"AABC32DE4P%@23Pu\" output should be 32+4+23 = 59 \n",
    "x=\"AAAAA223###10\"\n",
    "sum=0\n",
    "num=''  # An empty string\n",
    "for i in x:\n",
    "    if i.isdigit():\n",
    "        num = num+i\n",
    "    else:\n",
    "        if(num != ''):\n",
    "            sum = sum+int(num)\n",
    "            num=''\n",
    "sum= sum+int(num)\n",
    "print (sum)"
   ]
  },
  {
   "cell_type": "code",
   "execution_count": 3,
   "metadata": {},
   "outputs": [
    {
     "name": "stdout",
     "output_type": "stream",
     "text": [
      "12535\n"
     ]
    }
   ],
   "source": [
    "# Take a interger and replace 0 with 5\n",
    "import  math\n",
    "n = 12030\n",
    "count = 0\n",
    "result = n\n",
    "while (n != 0):\n",
    "    if (n % 10 == 0):\n",
    "        result +=  5 * math.pow(10, count)\n",
    "\n",
    "    n = n // 10\n",
    "    count+=1\n",
    "\n",
    "print(int(result))\n",
    "\n",
    "\n",
    "######### Using regular expression\n",
    "#import re\n",
    "\n",
    "#a='10230'\n",
    "#print(re.sub('0', '5', a))"
   ]
  },
  {
   "cell_type": "code",
   "execution_count": 4,
   "metadata": {},
   "outputs": [
    {
     "name": "stdout",
     "output_type": "stream",
     "text": [
      "[-7, -6, -4, 2, 5, 8]\n"
     ]
    }
   ],
   "source": [
    "# INsertion Sort\n",
    "a=[-6,-7, -4, 5, 2, 8]\n",
    "for i in range(1,len(a)):\n",
    "        currentvalue= a[i]\n",
    "        \n",
    "        while i>0 and a[i-1]>currentvalue:\n",
    "            a[i]= a[i-1]\n",
    "            i-=1\n",
    "            \n",
    "        a[i]=currentvalue\n",
    "print(a)"
   ]
  },
  {
   "cell_type": "code",
   "execution_count": 5,
   "metadata": {},
   "outputs": [
    {
     "ename": "TypeError",
     "evalue": "'cmp' is an invalid keyword argument for this function",
     "output_type": "error",
     "traceback": [
      "\u001b[0;31m---------------------------------------------------------------------------\u001b[0m",
      "\u001b[0;31mTypeError\u001b[0m                                 Traceback (most recent call last)",
      "\u001b[0;32m<ipython-input-5-a3f102ec59ea>\u001b[0m in \u001b[0;36m<module>\u001b[0;34m()\u001b[0m\n\u001b[1;32m     18\u001b[0m \u001b[0;31m# driver code\u001b[0m\u001b[0;34m\u001b[0m\u001b[0;34m\u001b[0m\u001b[0m\n\u001b[1;32m     19\u001b[0m \u001b[0ma\u001b[0m \u001b[0;34m=\u001b[0m \u001b[0;34m[\u001b[0m\u001b[0;36m54\u001b[0m\u001b[0;34m,\u001b[0m \u001b[0;36m546\u001b[0m\u001b[0;34m,\u001b[0m \u001b[0;36m548\u001b[0m\u001b[0;34m,\u001b[0m \u001b[0;36m60\u001b[0m\u001b[0;34m,\u001b[0m\u001b[0;34m]\u001b[0m\u001b[0;34m\u001b[0m\u001b[0m\n\u001b[0;32m---> 20\u001b[0;31m \u001b[0msorted_array\u001b[0m \u001b[0;34m=\u001b[0m \u001b[0msorted\u001b[0m\u001b[0;34m(\u001b[0m\u001b[0ma\u001b[0m\u001b[0;34m,\u001b[0m \u001b[0mcmp\u001b[0m\u001b[0;34m=\u001b[0m\u001b[0mcomparator\u001b[0m\u001b[0;34m)\u001b[0m\u001b[0;34m\u001b[0m\u001b[0m\n\u001b[0m\u001b[1;32m     21\u001b[0m \u001b[0mnumber\u001b[0m \u001b[0;34m=\u001b[0m \u001b[0;34m\"\"\u001b[0m\u001b[0;34m.\u001b[0m\u001b[0mjoin\u001b[0m\u001b[0;34m(\u001b[0m\u001b[0;34m[\u001b[0m\u001b[0mstr\u001b[0m\u001b[0;34m(\u001b[0m\u001b[0mi\u001b[0m\u001b[0;34m)\u001b[0m \u001b[0;32mfor\u001b[0m \u001b[0mi\u001b[0m \u001b[0;32min\u001b[0m \u001b[0msorted_array\u001b[0m\u001b[0;34m]\u001b[0m\u001b[0;34m)\u001b[0m\u001b[0;34m\u001b[0m\u001b[0m\n\u001b[1;32m     22\u001b[0m \u001b[0mprint\u001b[0m\u001b[0;34m(\u001b[0m\u001b[0mnumber\u001b[0m\u001b[0;34m)\u001b[0m\u001b[0;34m\u001b[0m\u001b[0m\n",
      "\u001b[0;31mTypeError\u001b[0m: 'cmp' is an invalid keyword argument for this function"
     ]
    }
   ],
   "source": [
    "# https://www.geeksforgeeks.org/given-an-array-of-numbers-arrange-the-numbers-to-form-the-biggest-number/\n",
    "#Arrange given numbers to form the biggest number | Set 1\n",
    "\n",
    "# Python TWO Program to get the maximum possible integer from given array of integers...\n",
    "'''So how do we go about it? The idea is to use any comparison based sorting algorithm. In the used sorting \n",
    "algorithm, instead of using the default comparison, write a comparison function myCompare() and use \n",
    "it to sort numbers. Given two numbers X and Y, how should myCompare() decide which number to put first – we compare two numbers XY (Y appended at the end of X) and YX (X appended at the end of Y). If XY is larger, then X should come before Y in output, else Y should come before. For example, let X and Y be 542 and 60. To compare X and Y, we compare 54260 and 60542. Since 60542 is greater than 54260, we put Y first.\n",
    "'''\n",
    "\n",
    "\n",
    "# custom comparator to sort according\n",
    "# to the ab, ba as mentioned in description\n",
    "def comparator(a, b):\n",
    "\tab = str(a)+str(b)\n",
    "\tba = str(b)+str(a)\n",
    "\treturn cmp(int(ba), int(ab))\n",
    "\n",
    "# driver code \n",
    "a = [54, 546, 548, 60,]\n",
    "sorted_array = sorted(a, cmp=comparator)\n",
    "number = \"\".join([str(i) for i in sorted_array])\n",
    "print(number)\n"
   ]
  },
  {
   "cell_type": "code",
   "execution_count": 7,
   "metadata": {},
   "outputs": [
    {
     "name": "stdout",
     "output_type": "stream",
     "text": [
      "1 2 3 4 5 6 12 18 17 16 15 14 13 7 8 9 10 11 "
     ]
    }
   ],
   "source": [
    "#https://www.geeksforgeeks.org/print-a-given-matrix-in-spiral-form/\n",
    "# Python3 program to print \n",
    "# given matrix in spiral form\n",
    "def spiralPrint(m, n, a) :\n",
    "    k = 0; l = 0\n",
    " \n",
    "    ''' k - starting row index\n",
    "        m - ending row index\n",
    "        l - starting column index\n",
    "        n - ending column index\n",
    "        i - iterator '''\n",
    "     \n",
    " \n",
    "    while (k < m and l < n) :\n",
    "         \n",
    "        # Print the first row from\n",
    "        # the remaining rows \n",
    "        for i in range(l, n) :\n",
    "            print(a[k][i], end = \" \")\n",
    "             \n",
    "        k += 1\n",
    " \n",
    "        # Print the last column from\n",
    "        # the remaining columns \n",
    "        for i in range(k, m) :\n",
    "            print(a[i][n - 1], end = \" \")\n",
    "             \n",
    "        n -= 1\n",
    " \n",
    "        # Print the last row from\n",
    "        # the remaining rows \n",
    "        if ( k < m) :\n",
    "             \n",
    "            for i in range(n - 1, (l - 1), -1) :\n",
    "                print(a[m - 1][i], end = \" \")\n",
    "             \n",
    "            m -= 1\n",
    "         \n",
    "        # Print the first column from\n",
    "        # the remaining columns \n",
    "        if (l < n) :\n",
    "            for i in range(m - 1, k - 1, -1) :\n",
    "                print(a[i][l], end = \" \")\n",
    "             \n",
    "            l += 1\n",
    " \n",
    "# Driver Code\n",
    "a = [ [1, 2, 3, 4, 5, 6],\n",
    "      [7, 8, 9, 10, 11, 12],\n",
    "      [13, 14, 15, 16, 17, 18] ]\n",
    "       \n",
    "R = 3; C = 6\n",
    "spiralPrint(R, C, a)\n",
    " "
   ]
  },
  {
   "cell_type": "code",
   "execution_count": 8,
   "metadata": {},
   "outputs": [
    {
     "name": "stdout",
     "output_type": "stream",
     "text": [
      "Yes\n"
     ]
    }
   ],
   "source": [
    "#https://www.geeksforgeeks.org/find-pythagorean-triplet-in-an-unsorted-array/\n",
    "# Returns true if there is Pythagorean\n",
    "# triplet in ar[0..n-1]\n",
    "def isTriplet(ar, n):\n",
    "    for i in range(n - 2):\n",
    "        for j in range(i + 1, n - 1):\n",
    "            for k in range(j + 1, n):\n",
    "                # Calculate square of array elements\n",
    "                x = ar[i]*ar[i]\n",
    "                y = ar[j]*ar[j]\n",
    "                z = ar[k]*ar[k] \n",
    "                if (x == y + z or y == x + z or z == x + y):\n",
    "                    return 1\n",
    "    \n",
    "    # If we reach here, no triplet found\n",
    "    return 0\n",
    "  \n",
    "   \n",
    "# Driver program to test above function \n",
    "ar = [3, 1, 4, 6, 5]\n",
    "ar_size = len(ar)\n",
    " \n",
    "if(isTriplet(ar, ar_size)):\n",
    "    print(\"Yes\")\n",
    "else:\n",
    "    print(\"No\")\n",
    "    \n",
    "#Time Complexity of the above solution is O(n3).\n",
    "  \n"
   ]
  },
  {
   "cell_type": "code",
   "execution_count": 9,
   "metadata": {},
   "outputs": [
    {
     "name": "stdout",
     "output_type": "stream",
     "text": [
      "Input string: a!!!b.c.d,e'f,ghi\n",
      "Output string: i!!!h.g.f,e'd,cba\n"
     ]
    }
   ],
   "source": [
    "# Python program to reverse a  string with special characters- https://www.geeksforgeeks.org/reverse-an-array-without-affecting-special-characters/\n",
    " \n",
    "# Returns true if x is an aplhabatic character, false otherwise\n",
    "def isAlphabet(x):\n",
    "    return x.isalpha()\n",
    " \n",
    "def reverse(string):\n",
    "    LIST = toList(string)\n",
    " \n",
    "    # Initialize left and right pointers\n",
    "    r = len(LIST) - 1\n",
    "    l = 0\n",
    " \n",
    "    # Traverse LIST from both ends until 'l' and 'r'\n",
    "    while l < r:\n",
    " \n",
    "        # Ignore special characters\n",
    "        if not isAlphabet(LIST[l]):\n",
    "            l += 1\n",
    "        elif not isAlphabet(LIST[r]):\n",
    "            r -= 1\n",
    "         \n",
    "        # Both LIST[l] and LIST[r] are not special\n",
    "        else: \n",
    "            LIST[l], LIST[r] = LIST[r],LIST[l]\n",
    "            l += 1\n",
    "            r -= 1\n",
    " \n",
    "    return toString(LIST)\n",
    " \n",
    "# Utility functions\n",
    "def toList(string):\n",
    "    List = []\n",
    "    for i in string:\n",
    "        List.append(i)\n",
    "    return List\n",
    " \n",
    "def toString(List):\n",
    "    return ''.join(List)\n",
    "\n",
    " \n",
    "# Driver code\n",
    "string = \"a!!!b.c.d,e'f,ghi\"\n",
    "print (\"Input string: \" + string)\n",
    "string = reverse(string)\n",
    "print (\"Output string: \" + string)\n",
    " \n",
    "# This code is contributed by Bhavya Jain"
   ]
  },
  {
   "cell_type": "code",
   "execution_count": 11,
   "metadata": {},
   "outputs": [
    {
     "name": "stdout",
     "output_type": "stream",
     "text": [
      "C\n"
     ]
    }
   ],
   "source": [
    "# https://www.geeksforgeeks.org/return-maximum-occurring-character-in-the-input-string/\n",
    "# https://stackoverflow.com/questions/268272/getting-key-with-maximum-value-in-dictionary\n",
    "\n",
    "def max_occur_string(str):\n",
    "    count = {}\n",
    "    max_count = 0\n",
    "\n",
    "    for i in str:\n",
    "        if i not in count:\n",
    "            count[i] = 1\n",
    "        else:\n",
    "            count[i] += 1\n",
    "\n",
    "   \n",
    "    print (max(count, key=count.get))\n",
    "max_occur_string(\"CCCCABCDEABB\")"
   ]
  },
  {
   "cell_type": "code",
   "execution_count": null,
   "metadata": {},
   "outputs": [],
   "source": []
  }
 ],
 "metadata": {
  "kernelspec": {
   "display_name": "Python 3",
   "language": "python",
   "name": "python3"
  },
  "language_info": {
   "codemirror_mode": {
    "name": "ipython",
    "version": 3
   },
   "file_extension": ".py",
   "mimetype": "text/x-python",
   "name": "python",
   "nbconvert_exporter": "python",
   "pygments_lexer": "ipython3",
   "version": "3.6.4"
  }
 },
 "nbformat": 4,
 "nbformat_minor": 2
}
